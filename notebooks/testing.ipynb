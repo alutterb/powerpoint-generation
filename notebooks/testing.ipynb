{
 "cells": [
  {
   "cell_type": "code",
   "execution_count": 1,
   "metadata": {},
   "outputs": [],
   "source": [
    "import pdfplumber"
   ]
  },
  {
   "cell_type": "code",
   "execution_count": 11,
   "metadata": {},
   "outputs": [
    {
     "ename": "AttributeError",
     "evalue": "'Page' object has no attribute 'get_image'",
     "output_type": "error",
     "traceback": [
      "\u001b[1;31m---------------------------------------------------------------------------\u001b[0m",
      "\u001b[1;31mAttributeError\u001b[0m                            Traceback (most recent call last)",
      "\u001b[1;32mc:\\Users\\akagi\\Documents\\Projects\\powerpoint-generation\\notebooks\\testing.ipynb Cell 2\u001b[0m line \u001b[0;36m4\n\u001b[0;32m      <a href='vscode-notebook-cell:/c%3A/Users/akagi/Documents/Projects/powerpoint-generation/notebooks/testing.ipynb#W0sZmlsZQ%3D%3D?line=1'>2</a>\u001b[0m \u001b[39mfor\u001b[39;00m page \u001b[39min\u001b[39;00m pdf\u001b[39m.\u001b[39mpages:\n\u001b[0;32m      <a href='vscode-notebook-cell:/c%3A/Users/akagi/Documents/Projects/powerpoint-generation/notebooks/testing.ipynb#W0sZmlsZQ%3D%3D?line=2'>3</a>\u001b[0m     \u001b[39mfor\u001b[39;00m img_meta \u001b[39min\u001b[39;00m page\u001b[39m.\u001b[39mimages:\n\u001b[1;32m----> <a href='vscode-notebook-cell:/c%3A/Users/akagi/Documents/Projects/powerpoint-generation/notebooks/testing.ipynb#W0sZmlsZQ%3D%3D?line=3'>4</a>\u001b[0m         image_bytes \u001b[39m=\u001b[39m page\u001b[39m.\u001b[39;49mget_image(img_meta[\u001b[39m\"\u001b[39m\u001b[39mstream\u001b[39m\u001b[39m\"\u001b[39m])\n\u001b[0;32m      <a href='vscode-notebook-cell:/c%3A/Users/akagi/Documents/Projects/powerpoint-generation/notebooks/testing.ipynb#W0sZmlsZQ%3D%3D?line=4'>5</a>\u001b[0m         \u001b[39mprint\u001b[39m(image_bytes)\n\u001b[0;32m      <a href='vscode-notebook-cell:/c%3A/Users/akagi/Documents/Projects/powerpoint-generation/notebooks/testing.ipynb#W0sZmlsZQ%3D%3D?line=5'>6</a>\u001b[0m         \u001b[39mbreak\u001b[39;00m\n",
      "\u001b[1;31mAttributeError\u001b[0m: 'Page' object has no attribute 'get_image'"
     ]
    }
   ],
   "source": [
    "with pdfplumber.open(r'C:\\Users\\akagi\\Dropbox\\Textbooks\\Financial Engineering\\Capinski - Mathematics for Finance - An Introduction to Financial Engineering-Springer (2004).pdf') as pdf:\n",
    "    for page in pdf.pages:\n",
    "        for img_meta in page.images:\n",
    "            print(img_meta)\n",
    "            break\n",
    "        break"
   ]
  },
  {
   "cell_type": "code",
   "execution_count": null,
   "metadata": {},
   "outputs": [],
   "source": []
  }
 ],
 "metadata": {
  "kernelspec": {
   "display_name": ".ven",
   "language": "python",
   "name": "python3"
  },
  "language_info": {
   "codemirror_mode": {
    "name": "ipython",
    "version": 3
   },
   "file_extension": ".py",
   "mimetype": "text/x-python",
   "name": "python",
   "nbconvert_exporter": "python",
   "pygments_lexer": "ipython3",
   "version": "3.11.4"
  }
 },
 "nbformat": 4,
 "nbformat_minor": 2
}
